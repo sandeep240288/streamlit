{
  "cells": [
    {
      "cell_type": "markdown",
      "metadata": {
        "id": "view-in-github",
        "colab_type": "text"
      },
      "source": [
        "<a href=\"https://colab.research.google.com/github/sandeep240288/streamlit/blob/main/ChartInkFilterWeeklyScan.ipynb\" target=\"_parent\"><img src=\"https://colab.research.google.com/assets/colab-badge.svg\" alt=\"Open In Colab\"/></a>"
      ]
    },
    {
      "cell_type": "code",
      "execution_count": 1,
      "metadata": {
        "colab": {
          "base_uri": "https://localhost:8080/"
        },
        "id": "HkVgWidVasjE",
        "outputId": "c4adf16d-7b2a-4adc-c812-8f8eeecd81ed"
      },
      "outputs": [
        {
          "output_type": "stream",
          "name": "stdout",
          "text": [
            "Looking in indexes: https://pypi.org/simple, https://us-python.pkg.dev/colab-wheels/public/simple/\n",
            "Collecting bs4\n",
            "  Downloading bs4-0.0.1.tar.gz (1.1 kB)\n",
            "  Preparing metadata (setup.py) ... \u001b[?25l\u001b[?25hdone\n",
            "Requirement already satisfied: beautifulsoup4 in /usr/local/lib/python3.10/dist-packages (from bs4) (4.11.2)\n",
            "Requirement already satisfied: soupsieve>1.2 in /usr/local/lib/python3.10/dist-packages (from beautifulsoup4->bs4) (2.4.1)\n",
            "Building wheels for collected packages: bs4\n",
            "  Building wheel for bs4 (setup.py) ... \u001b[?25l\u001b[?25hdone\n",
            "  Created wheel for bs4: filename=bs4-0.0.1-py3-none-any.whl size=1257 sha256=57530f3a4104eae68bd48305b9dcba1f054faf27dfad7559034289319908026a\n",
            "  Stored in directory: /root/.cache/pip/wheels/25/42/45/b773edc52acb16cd2db4cf1a0b47117e2f69bb4eb300ed0e70\n",
            "Successfully built bs4\n",
            "Installing collected packages: bs4\n",
            "Successfully installed bs4-0.0.1\n",
            "Looking in indexes: https://pypi.org/simple, https://us-python.pkg.dev/colab-wheels/public/simple/\n",
            "Requirement already satisfied: yfinance in /usr/local/lib/python3.10/dist-packages (0.2.18)\n",
            "Requirement already satisfied: pandas>=1.3.0 in /usr/local/lib/python3.10/dist-packages (from yfinance) (1.5.3)\n",
            "Requirement already satisfied: numpy>=1.16.5 in /usr/local/lib/python3.10/dist-packages (from yfinance) (1.22.4)\n",
            "Requirement already satisfied: requests>=2.26 in /usr/local/lib/python3.10/dist-packages (from yfinance) (2.27.1)\n",
            "Requirement already satisfied: multitasking>=0.0.7 in /usr/local/lib/python3.10/dist-packages (from yfinance) (0.0.11)\n",
            "Requirement already satisfied: lxml>=4.9.1 in /usr/local/lib/python3.10/dist-packages (from yfinance) (4.9.2)\n",
            "Requirement already satisfied: appdirs>=1.4.4 in /usr/local/lib/python3.10/dist-packages (from yfinance) (1.4.4)\n",
            "Requirement already satisfied: pytz>=2022.5 in /usr/local/lib/python3.10/dist-packages (from yfinance) (2022.7.1)\n",
            "Requirement already satisfied: frozendict>=2.3.4 in /usr/local/lib/python3.10/dist-packages (from yfinance) (2.3.7)\n",
            "Requirement already satisfied: cryptography>=3.3.2 in /usr/local/lib/python3.10/dist-packages (from yfinance) (40.0.2)\n",
            "Requirement already satisfied: beautifulsoup4>=4.11.1 in /usr/local/lib/python3.10/dist-packages (from yfinance) (4.11.2)\n",
            "Requirement already satisfied: html5lib>=1.1 in /usr/local/lib/python3.10/dist-packages (from yfinance) (1.1)\n",
            "Requirement already satisfied: soupsieve>1.2 in /usr/local/lib/python3.10/dist-packages (from beautifulsoup4>=4.11.1->yfinance) (2.4.1)\n",
            "Requirement already satisfied: cffi>=1.12 in /usr/local/lib/python3.10/dist-packages (from cryptography>=3.3.2->yfinance) (1.15.1)\n",
            "Requirement already satisfied: six>=1.9 in /usr/local/lib/python3.10/dist-packages (from html5lib>=1.1->yfinance) (1.16.0)\n",
            "Requirement already satisfied: webencodings in /usr/local/lib/python3.10/dist-packages (from html5lib>=1.1->yfinance) (0.5.1)\n",
            "Requirement already satisfied: python-dateutil>=2.8.1 in /usr/local/lib/python3.10/dist-packages (from pandas>=1.3.0->yfinance) (2.8.2)\n",
            "Requirement already satisfied: urllib3<1.27,>=1.21.1 in /usr/local/lib/python3.10/dist-packages (from requests>=2.26->yfinance) (1.26.15)\n",
            "Requirement already satisfied: certifi>=2017.4.17 in /usr/local/lib/python3.10/dist-packages (from requests>=2.26->yfinance) (2022.12.7)\n",
            "Requirement already satisfied: charset-normalizer~=2.0.0 in /usr/local/lib/python3.10/dist-packages (from requests>=2.26->yfinance) (2.0.12)\n",
            "Requirement already satisfied: idna<4,>=2.5 in /usr/local/lib/python3.10/dist-packages (from requests>=2.26->yfinance) (3.4)\n",
            "Requirement already satisfied: pycparser in /usr/local/lib/python3.10/dist-packages (from cffi>=1.12->cryptography>=3.3.2->yfinance) (2.21)\n",
            "Looking in indexes: https://pypi.org/simple, https://us-python.pkg.dev/colab-wheels/public/simple/\n",
            "Collecting pandas_ta\n",
            "  Downloading pandas_ta-0.3.14b.tar.gz (115 kB)\n",
            "\u001b[2K     \u001b[90m━━━━━━━━━━━━━━━━━━━━━━━━━━━━━━━━━━━━━━━\u001b[0m \u001b[32m115.1/115.1 kB\u001b[0m \u001b[31m2.9 MB/s\u001b[0m eta \u001b[36m0:00:00\u001b[0m\n",
            "\u001b[?25h  Preparing metadata (setup.py) ... \u001b[?25l\u001b[?25hdone\n",
            "Requirement already satisfied: pandas in /usr/local/lib/python3.10/dist-packages (from pandas_ta) (1.5.3)\n",
            "Requirement already satisfied: python-dateutil>=2.8.1 in /usr/local/lib/python3.10/dist-packages (from pandas->pandas_ta) (2.8.2)\n",
            "Requirement already satisfied: pytz>=2020.1 in /usr/local/lib/python3.10/dist-packages (from pandas->pandas_ta) (2022.7.1)\n",
            "Requirement already satisfied: numpy>=1.21.0 in /usr/local/lib/python3.10/dist-packages (from pandas->pandas_ta) (1.22.4)\n",
            "Requirement already satisfied: six>=1.5 in /usr/local/lib/python3.10/dist-packages (from python-dateutil>=2.8.1->pandas->pandas_ta) (1.16.0)\n",
            "Building wheels for collected packages: pandas_ta\n",
            "  Building wheel for pandas_ta (setup.py) ... \u001b[?25l\u001b[?25hdone\n",
            "  Created wheel for pandas_ta: filename=pandas_ta-0.3.14b0-py3-none-any.whl size=218908 sha256=412720ff74a5e3b208270d4ef30dec3e4434a933a5560f96525458756d5a8a85\n",
            "  Stored in directory: /root/.cache/pip/wheels/69/00/ac/f7fa862c34b0e2ef320175100c233377b4c558944f12474cf0\n",
            "Successfully built pandas_ta\n",
            "Installing collected packages: pandas_ta\n",
            "Successfully installed pandas_ta-0.3.14b0\n"
          ]
        }
      ],
      "source": [
        "# installations\n",
        "!pip install bs4\n",
        "!pip install yfinance\n",
        "!pip install pandas_ta\n"
      ]
    },
    {
      "cell_type": "code",
      "execution_count": 2,
      "metadata": {
        "id": "y1Md_jy-isGX"
      },
      "outputs": [],
      "source": [
        "# Import\n",
        "import pandas as pd\n",
        "import numpy as np\n",
        "import requests\n",
        "from bs4 import BeautifulSoup as bs\n",
        "import yfinance as yf"
      ]
    },
    {
      "cell_type": "code",
      "execution_count": 5,
      "metadata": {
        "id": "bW4SNLBcaJyZ"
      },
      "outputs": [],
      "source": [
        "# filtered Symbols\n",
        "url = \"https://chartink.com/screener/process\"\n",
        "\n",
        "condition_friday = {\"scan_clause\": \"( {cash} ( weekly close >= 30 and latest sma( latest close , 10 ) >= latest sma( latest close , 30 ) and latest sma( latest volume , 5 ) >= 10000 and market cap > 0 and weekly sma( weekly close , 40 ) <= latest close and latest \\\"\\close - 1 candle ago close / 1 candle ago close * 100\\\"\\ >= -4 ) )\"}\n",
        "condition_consolidating = {\"scan_clause\": \"( {cash} ( weekly close >= 30 and latest sma( latest close , 10 ) >= latest sma( latest close , 30 ) and latest sma( latest volume , 5 ) >= 10000 and market cap > 0 and weekly sma( weekly close , 40 ) <= latest close and latest \\\"\\close - 1 candle ago close / 1 candle ago close * 100\\\"\\ >= -4 and( {cash} ( ( abs( latest close - latest sma( latest close , 9 ) ) / latest sma( latest close , 9 ) ) <= .02 or( abs( latest close - latest sma( latest close , 20 ) ) / latest sma( latest close , 20 ) ) <= .02 ) ) ) ) \"}\n",
        "\n",
        "condition = condition_friday\n",
        "\n",
        "with requests.session() as s:\n",
        "    r_data = s.get(url)\n",
        "    soup = bs(r_data.content, \"lxml\")\n",
        "    meta = soup.find(\"meta\", {\"name\" : \"csrf-token\"})[\"content\"]\n",
        "\n",
        "    header = {\"x-csrf-token\" : meta}\n",
        "    data = s.post(url, headers=header, data=condition).json()\n",
        "\n",
        "    query_stock_list = pd.DataFrame(data[\"data\"])\n"
      ]
    },
    {
      "cell_type": "code",
      "execution_count": null,
      "metadata": {
        "id": "7ter-oNPhOFZ"
      },
      "outputs": [],
      "source": [
        "# Yfinance Symbols\n",
        "stock_nse_codes = query_stock_list['nsecode'].to_list()\n",
        "stocks_nse_symbol = [symbol+'.NS' for symbol in stock_nse_codes]\n",
        "stocks_nse_symbol"
      ]
    },
    {
      "cell_type": "code",
      "execution_count": 7,
      "metadata": {
        "colab": {
          "base_uri": "https://localhost:8080/"
        },
        "id": "7wbFOxsogz1Q",
        "outputId": "9c5dc06f-afb7-4be6-c9ad-46b430661c36"
      },
      "outputs": [
        {
          "output_type": "execute_result",
          "data": {
            "text/plain": [
              "datetime.date(2022, 12, 18)"
            ]
          },
          "metadata": {},
          "execution_count": 7
        }
      ],
      "source": [
        "# date range to fetch Data from\n",
        "from datetime import date ,timedelta\n",
        "today = date.today()+timedelta(days=1)\n",
        "start_date = today-timedelta(days=180)\n",
        "start_date"
      ]
    },
    {
      "cell_type": "code",
      "execution_count": 8,
      "metadata": {
        "id": "HLxaucuSh-lU"
      },
      "outputs": [],
      "source": [
        "stock_list = stocks_nse_symbol\n",
        "filtered_stocks_purple_dots =[]\n",
        "filtered_darvax =[]"
      ]
    },
    {
      "cell_type": "code",
      "execution_count": 9,
      "metadata": {
        "id": "JsSWClAziH-X"
      },
      "outputs": [],
      "source": [
        "# function definitions for analysis\n",
        "def darvax(df,n,range_pct):\n",
        "  rolling_max  = df['Close'].rolling(window=n).max()\n",
        "  rolling_min = df['Close'].rolling(window=n).min()\n",
        "\n",
        "  last_max = rolling_max[-1]\n",
        "  last_min = rolling_min[-1]\n",
        "\n",
        "  rang_pct = 100*(last_max-last_min)/last_min\n",
        "  return rang_pct < range_pct\n",
        "\n",
        "\n",
        "\n",
        "def stock_range(close,open):\n",
        "    return close-open\n",
        "\n",
        "\n",
        "\n",
        "def nr3(df):\n",
        "  close1 = df['Close'][-1]\n",
        "  open1= df['Open'][-1]\n",
        "\n",
        "  close2 = df['Close'][-2]\n",
        "  open2 = df['Open'][-2]\n",
        "\n",
        "  close3 = df['Close'][-3]\n",
        "  open3 = df['Open'][-3]\n",
        "\n",
        "\n",
        "  r1 = stock_range(close1,open1)\n",
        "  r2 = stock_range(close2,open2)\n",
        "  r3 = stock_range(close3,open3)\n",
        "\n",
        "  if close3>close2>close1 and open3<open2<open1:\n",
        "    return True\n",
        "  elif r3>r2>r1:\n",
        "     return True\n",
        "  return False\n"
      ]
    },
    {
      "cell_type": "code",
      "execution_count": 10,
      "metadata": {
        "id": "a8HdsFGT5ZNS"
      },
      "outputs": [],
      "source": [
        "import multiprocessing as mp\n",
        "def get_stock_history(symbol):\n",
        "  \"\"\"Gets the stock history for the given symbol.\"\"\"\n",
        "  ticker = yf.Ticker(symbol)\n",
        "  if ticker:\n",
        "    stock_history = ticker.history(start=start_date, end=today, interval=\"1d\")\n",
        "    stock_history[\"return\"] = stock_history[\"Close\"].pct_change() * 100\n",
        "    stock_history[\"is_1M\"] = stock_history[\"Volume\"] >= 1000000\n",
        "    stock_history[\"gt_5pct\"] = stock_history[\"return\"] >= 5\n",
        "    stock_history[\"match\"] = stock_history[\"is_1M\"] & stock_history[\"gt_5pct\"]\n",
        "    total = stock_history[\"match\"].sum()\n",
        "    stock_history[\"total\"] = total\n",
        "    stock_history[\"sma10\"] = stock_history[\"Close\"].rolling(10).mean()\n",
        "    stock_history[\"sma10_distance\"] =abs((stock_history[\"sma10\"]/stock_history[\"Close\"])-1)*100\n",
        "    zerodha_symbol = symbol.split(\".\", 1)[0]\n",
        "    return stock_history, total, zerodha_symbol\n",
        "  else:\n",
        "    return None, None, None"
      ]
    },
    {
      "cell_type": "code",
      "execution_count": 11,
      "metadata": {
        "id": "hDTfmWX75m-J"
      },
      "outputs": [],
      "source": [
        "\n",
        "def main(stock_list):\n",
        "  \"\"\"The main function.\"\"\"\n",
        "  # Create a pool of workers.\n",
        "  pool = mp.Pool()\n",
        "\n",
        "  # Get the stock histories for all of the symbols.\n",
        "  results = pool.map(get_stock_history, stock_list)\n",
        "\n",
        "  # Filter the results.\n",
        "  filtered_stocks_purple_dots = []\n",
        "  stocks_at_10_ma = []\n",
        "  for result in results:\n",
        "    if result is not None and  result[1] >= 2:\n",
        "        if result[0].iloc[-1]['sma10_distance']<=1:\n",
        "          stocks_at_10_ma.append(result[2])\n",
        "\n",
        "        filtered_stocks_purple_dots.append({\n",
        "            \"symbol\": result[2],\n",
        "            \"total\": result[1]\n",
        "        })\n",
        "\n",
        "\n",
        "\n",
        "  # Print the filtered results.\n",
        "  return filtered_stocks_purple_dots,stocks_at_10_ma\n"
      ]
    },
    {
      "cell_type": "code",
      "execution_count": 12,
      "metadata": {
        "colab": {
          "base_uri": "https://localhost:8080/"
        },
        "id": "ooeDIry16aSy",
        "outputId": "e61b171f-1647-4d4e-ddb0-af0586e8dc34"
      },
      "outputs": [
        {
          "output_type": "stream",
          "name": "stdout",
          "text": [
            "Failed to create TzCache, reason: Error creating TzCache folder: '/root/.cache/py-yfinance' reason: [Errno 17] File exists: '/root/.cache/py-yfinance'\n",
            "TzCache will not be used.\n",
            "Tip: You can direct cache to use a different location with 'set_tz_cache_location(mylocation)'\n"
          ]
        }
      ],
      "source": [
        "filtered_stocks_purple_dots,stocks_at_10_ma = main(stock_list)"
      ]
    },
    {
      "cell_type": "code",
      "execution_count": 13,
      "metadata": {
        "colab": {
          "base_uri": "https://localhost:8080/"
        },
        "id": "-jHjaQlkoSTN",
        "outputId": "14d1200d-7526-4269-f053-29276bf6864e"
      },
      "outputs": [
        {
          "output_type": "execute_result",
          "data": {
            "text/plain": [
              "['PERSISTENT',\n",
              " 'HDFCAMC',\n",
              " 'NUCLEUS',\n",
              " 'BDL',\n",
              " 'HAPPSTMNDS',\n",
              " 'GLENMARK',\n",
              " 'GRAVITA',\n",
              " 'KIRLOSBROS',\n",
              " 'HDFCLIFE',\n",
              " 'DATAMATICS',\n",
              " 'BORORENEW',\n",
              " 'HINDWAREAP',\n",
              " 'ACE',\n",
              " 'BCLIND',\n",
              " 'MAHSEAMLES',\n",
              " 'CHEMPLASTS',\n",
              " 'AARTIDRUGS',\n",
              " 'IOLCP',\n",
              " 'ZENTEC',\n",
              " 'RATEGAIN',\n",
              " 'ZENSARTECH',\n",
              " 'PRAJIND',\n",
              " 'BFINVEST',\n",
              " 'CGPOWER',\n",
              " 'BFUTILITIE',\n",
              " 'BSOFT',\n",
              " 'KOLTEPATIL',\n",
              " 'FCL',\n",
              " 'BANCOINDIA',\n",
              " 'GSPL',\n",
              " 'M&MFIN',\n",
              " 'TRIVENI',\n",
              " 'SCHNEIDER',\n",
              " 'UGROCAP',\n",
              " 'EIHOTEL',\n",
              " 'EPL',\n",
              " 'BANKBARODA',\n",
              " 'GICRE',\n",
              " 'BHARATWIRE',\n",
              " 'JAICORPLTD',\n",
              " 'ANANTRAJ',\n",
              " 'STARCEMENT',\n",
              " 'ORIENTCEM',\n",
              " 'FSL',\n",
              " 'ARVIND',\n",
              " 'PRSMJOHNSN',\n",
              " 'DCAL',\n",
              " 'NCC',\n",
              " 'KOKUYOCMLN',\n",
              " 'ENGINERSIN',\n",
              " 'KECL',\n",
              " 'ITI',\n",
              " 'NLCINDIA',\n",
              " 'MAWANASUG',\n",
              " 'NACLIND',\n",
              " 'MARKSANS',\n",
              " 'NATIONALUM',\n",
              " 'SAIL',\n",
              " 'BHEL',\n",
              " 'IRCON',\n",
              " 'TRIL',\n",
              " 'PENIND',\n",
              " 'ZOMATO',\n",
              " 'UNIONBANK',\n",
              " 'GOLDTECH',\n",
              " 'MARSHALL',\n",
              " 'PNB',\n",
              " 'MARINE',\n",
              " 'TPLPLASTEH',\n",
              " 'TV18BRDCST',\n",
              " 'TRIDENT']"
            ]
          },
          "metadata": {},
          "execution_count": 13
        }
      ],
      "source": [
        "stocks_at_10_ma"
      ]
    },
    {
      "cell_type": "code",
      "execution_count": 14,
      "metadata": {
        "id": "z9aM7_1lw2it"
      },
      "outputs": [],
      "source": [
        "# symbol1 ='DIXON.NS'\n",
        "# ticker = yf.Ticker(symbol1)\n",
        "# if ticker:\n",
        "#   stock_history = ticker.history(start=start_date, end=today, interval=\"1d\")"
      ]
    },
    {
      "cell_type": "code",
      "execution_count": 15,
      "metadata": {
        "id": "33qF51yBxL0T"
      },
      "outputs": [],
      "source": [
        "# stock_history.iloc[-1]"
      ]
    },
    {
      "cell_type": "code",
      "execution_count": 16,
      "metadata": {
        "id": "zl4CV96Zxaj-"
      },
      "outputs": [],
      "source": [
        "# stock_history.tail()"
      ]
    },
    {
      "cell_type": "code",
      "execution_count": 17,
      "metadata": {
        "colab": {
          "base_uri": "https://localhost:8080/"
        },
        "id": "jNOT0gS1vG9m",
        "outputId": "054764ea-41ff-452d-ffdb-08e0ce7e5d76"
      },
      "outputs": [
        {
          "output_type": "stream",
          "name": "stdout",
          "text": [
            "PERSISTENT,\n",
            "HDFCAMC,\n",
            "NUCLEUS,\n",
            "BDL,\n",
            "HAPPSTMNDS,\n",
            "GLENMARK,\n",
            "GRAVITA,\n",
            "KIRLOSBROS,\n",
            "HDFCLIFE,\n",
            "DATAMATICS,\n",
            "BORORENEW,\n",
            "HINDWAREAP,\n",
            "ACE,\n",
            "BCLIND,\n",
            "MAHSEAMLES,\n",
            "CHEMPLASTS,\n",
            "AARTIDRUGS,\n",
            "IOLCP,\n",
            "ZENTEC,\n",
            "RATEGAIN,\n",
            "ZENSARTECH,\n",
            "PRAJIND,\n",
            "BFINVEST,\n",
            "CGPOWER,\n",
            "BFUTILITIE,\n",
            "BSOFT,\n",
            "KOLTEPATIL,\n",
            "FCL,\n",
            "BANCOINDIA,\n",
            "GSPL,\n",
            "M&MFIN,\n",
            "TRIVENI,\n",
            "SCHNEIDER,\n",
            "UGROCAP,\n",
            "EIHOTEL,\n",
            "EPL,\n",
            "BANKBARODA,\n",
            "GICRE,\n",
            "BHARATWIRE,\n",
            "JAICORPLTD,\n",
            "ANANTRAJ,\n",
            "STARCEMENT,\n",
            "ORIENTCEM,\n",
            "FSL,\n",
            "ARVIND,\n",
            "PRSMJOHNSN,\n",
            "DCAL,\n",
            "NCC,\n",
            "KOKUYOCMLN,\n",
            "ENGINERSIN,\n",
            "KECL,\n",
            "ITI,\n",
            "NLCINDIA,\n",
            "MAWANASUG,\n",
            "NACLIND,\n",
            "MARKSANS,\n",
            "NATIONALUM,\n",
            "SAIL,\n",
            "BHEL,\n",
            "IRCON,\n",
            "TRIL,\n",
            "PENIND,\n",
            "ZOMATO,\n",
            "UNIONBANK,\n",
            "GOLDTECH,\n",
            "MARSHALL,\n",
            "PNB,\n",
            "MARINE,\n",
            "TPLPLASTEH,\n",
            "TV18BRDCST,\n",
            "TRIDENT,\n"
          ]
        }
      ],
      "source": [
        "for symbol in list(stocks_at_10_ma):\n",
        "  print(symbol+',')"
      ]
    },
    {
      "cell_type": "code",
      "execution_count": 18,
      "metadata": {
        "id": "Ny3-sU3Y1Dh9"
      },
      "outputs": [],
      "source": [
        "# calculate logic for reversal play here"
      ]
    },
    {
      "cell_type": "code",
      "execution_count": 19,
      "metadata": {
        "colab": {
          "base_uri": "https://localhost:8080/"
        },
        "id": "KtfqKRWF79wJ",
        "outputId": "587db768-fd9a-4f3e-aeb5-973aa918c287"
      },
      "outputs": [
        {
          "output_type": "stream",
          "name": "stdout",
          "text": [
            "Looking in indexes: https://pypi.org/simple, https://us-python.pkg.dev/colab-wheels/public/simple/\n",
            "Requirement already satisfied: tabulate in /usr/local/lib/python3.10/dist-packages (0.8.10)\n"
          ]
        }
      ],
      "source": [
        "!pip install tabulate"
      ]
    },
    {
      "cell_type": "code",
      "execution_count": 20,
      "metadata": {
        "id": "RNYVtJZRBwya"
      },
      "outputs": [],
      "source": [
        "from tabulate import tabulate\n",
        "import operator\n",
        "def print_table(dict):\n",
        "    print(tabulate(dict, headers=\"keys\", tablefmt=\"fancy_grid\"))"
      ]
    },
    {
      "cell_type": "code",
      "execution_count": 21,
      "metadata": {
        "colab": {
          "base_uri": "https://localhost:8080/"
        },
        "id": "huhcESsl7ZQK",
        "outputId": "5209e8a4-a8ef-4856-803e-b7db648c323a"
      },
      "outputs": [
        {
          "output_type": "stream",
          "name": "stdout",
          "text": [
            "╒════════════╤═════════╕\n",
            "│ symbol     │   total │\n",
            "╞════════════╪═════════╡\n",
            "│ JINDALSAW  │      16 │\n",
            "├────────────┼─────────┤\n",
            "│ JBMA       │      12 │\n",
            "├────────────┼─────────┤\n",
            "│ ZENTEC     │      12 │\n",
            "├────────────┼─────────┤\n",
            "│ EKC        │      12 │\n",
            "├────────────┼─────────┤\n",
            "│ FACT       │      11 │\n",
            "├────────────┼─────────┤\n",
            "│ JISLJALEQS │      11 │\n",
            "├────────────┼─────────┤\n",
            "│ USHAMART   │      10 │\n",
            "├────────────┼─────────┤\n",
            "│ BHARATWIRE │      10 │\n",
            "├────────────┼─────────┤\n",
            "│ TRIL       │      10 │\n",
            "├────────────┼─────────┤\n",
            "│ VASCONEQ   │      10 │\n",
            "├────────────┼─────────┤\n",
            "│ HBLPOWER   │       9 │\n",
            "├────────────┼─────────┤\n",
            "│ PENIND     │       9 │\n",
            "├────────────┼─────────┤\n",
            "│ RADHIKAJWE │       9 │\n",
            "├────────────┼─────────┤\n",
            "│ KPITTECH   │       8 │\n",
            "├────────────┼─────────┤\n",
            "│ LODHA      │       8 │\n",
            "├────────────┼─────────┤\n",
            "│ DATAMATICS │       8 │\n",
            "├────────────┼─────────┤\n",
            "│ ELGIEQUIP  │       8 │\n",
            "├────────────┼─────────┤\n",
            "│ MAHINDCIE  │       8 │\n",
            "├────────────┼─────────┤\n",
            "│ TWL        │       8 │\n",
            "├────────────┼─────────┤\n",
            "│ TRITURBINE │       8 │\n",
            "├────────────┼─────────┤\n",
            "│ MOLDTECH   │       8 │\n",
            "├────────────┼─────────┤\n",
            "│ NAVA       │       8 │\n",
            "├────────────┼─────────┤\n",
            "│ ICIL       │       8 │\n",
            "├────────────┼─────────┤\n",
            "│ RVNL       │       8 │\n",
            "├────────────┼─────────┤\n",
            "│ SCI        │       8 │\n",
            "├────────────┼─────────┤\n",
            "│ BOMDYEING  │       8 │\n",
            "├────────────┼─────────┤\n",
            "│ RICOAUTO   │       8 │\n",
            "├────────────┼─────────┤\n",
            "│ IRCON      │       8 │\n",
            "├────────────┼─────────┤\n",
            "│ ISMTLTD    │       8 │\n",
            "├────────────┼─────────┤\n",
            "│ TEXRAIL    │       8 │\n",
            "├────────────┼─────────┤\n",
            "│ CYIENT     │       7 │\n",
            "├────────────┼─────────┤\n",
            "│ PAYTM      │       7 │\n",
            "├────────────┼─────────┤\n",
            "│ PNBHOUSING │       7 │\n",
            "├────────────┼─────────┤\n",
            "│ TVSELECT   │       7 │\n",
            "├────────────┼─────────┤\n",
            "│ SAKSOFT    │       7 │\n",
            "├────────────┼─────────┤\n",
            "│ MINDACORP  │       7 │\n",
            "├────────────┼─────────┤\n",
            "│ SDBL       │       7 │\n",
            "├────────────┼─────────┤\n",
            "│ IZMO       │       7 │\n",
            "├────────────┼─────────┤\n",
            "│ HINDOILEXP │       7 │\n",
            "├────────────┼─────────┤\n",
            "│ CAPACITE   │       7 │\n",
            "├────────────┼─────────┤\n",
            "│ PRECAM     │       7 │\n",
            "├────────────┼─────────┤\n",
            "│ GICRE      │       7 │\n",
            "├────────────┼─────────┤\n",
            "│ SURYODAY   │       7 │\n",
            "├────────────┼─────────┤\n",
            "│ ITDCEM     │       7 │\n",
            "├────────────┼─────────┤\n",
            "│ ARVIND     │       7 │\n",
            "├────────────┼─────────┤\n",
            "│ DCAL       │       7 │\n",
            "├────────────┼─────────┤\n",
            "│ EQUITASBNK │       7 │\n",
            "├────────────┼─────────┤\n",
            "│ HUDCO      │       7 │\n",
            "├────────────┼─────────┤\n",
            "│ IMAGICAA   │       7 │\n",
            "├────────────┼─────────┤\n",
            "│ SALASAR    │       7 │\n",
            "├────────────┼─────────┤\n",
            "│ PSB        │       7 │\n",
            "├────────────┼─────────┤\n",
            "│ MAZDOCK    │       6 │\n",
            "├────────────┼─────────┤\n",
            "│ SONATSOFTW │       6 │\n",
            "├────────────┼─────────┤\n",
            "│ OLECTRA    │       6 │\n",
            "├────────────┼─────────┤\n",
            "│ APTECHT    │       6 │\n",
            "├────────────┼─────────┤\n",
            "│ ZENSARTECH │       6 │\n",
            "├────────────┼─────────┤\n",
            "│ CHENNPETRO │       6 │\n",
            "├────────────┼─────────┤\n",
            "│ JSL        │       6 │\n",
            "├────────────┼─────────┤\n",
            "│ SCHNEIDER  │       6 │\n",
            "├────────────┼─────────┤\n",
            "│ UGROCAP    │       6 │\n",
            "├────────────┼─────────┤\n",
            "│ TDPOWERSYS │       6 │\n",
            "├────────────┼─────────┤\n",
            "│ BLS        │       6 │\n",
            "├────────────┼─────────┤\n",
            "│ NRBBEARING │       6 │\n",
            "├────────────┼─────────┤\n",
            "│ JAICORPLTD │       6 │\n",
            "├────────────┼─────────┤\n",
            "│ KALYANKJIL │       6 │\n",
            "├────────────┼─────────┤\n",
            "│ HIMATSEIDE │       6 │\n",
            "├────────────┼─────────┤\n",
            "│ ENGINERSIN │       6 │\n",
            "├────────────┼─────────┤\n",
            "│ KECL       │       6 │\n",
            "├────────────┼─────────┤\n",
            "│ WELSPUNIND │       6 │\n",
            "├────────────┼─────────┤\n",
            "│ MADRASFERT │       6 │\n",
            "├────────────┼─────────┤\n",
            "│ CONFIPET   │       6 │\n",
            "├────────────┼─────────┤\n",
            "│ RAMASTEEL  │       6 │\n",
            "├────────────┼─────────┤\n",
            "│ TRIDENT    │       6 │\n",
            "├────────────┼─────────┤\n",
            "│ KEC        │       5 │\n",
            "├────────────┼─────────┤\n",
            "│ COCHINSHIP │       5 │\n",
            "├────────────┼─────────┤\n",
            "│ BORORENEW  │       5 │\n",
            "├────────────┼─────────┤\n",
            "│ REFEX      │       5 │\n",
            "├────────────┼─────────┤\n",
            "│ ACE        │       5 │\n",
            "├────────────┼─────────┤\n",
            "│ RKFORGE    │       5 │\n",
            "├────────────┼─────────┤\n",
            "│ UJJIVAN    │       5 │\n",
            "├────────────┼─────────┤\n",
            "│ EIHOTEL    │       5 │\n",
            "├────────────┼─────────┤\n",
            "│ FOODSIN    │       5 │\n",
            "├────────────┼─────────┤\n",
            "│ MANAKSIA   │       5 │\n",
            "├────────────┼─────────┤\n",
            "│ ANANTRAJ   │       5 │\n",
            "├────────────┼─────────┤\n",
            "│ MANINDS    │       5 │\n",
            "├────────────┼─────────┤\n",
            "│ HSCL       │       5 │\n",
            "├────────────┼─────────┤\n",
            "│ RCF        │       5 │\n",
            "├────────────┼─────────┤\n",
            "│ GENUSPOWER │       5 │\n",
            "├────────────┼─────────┤\n",
            "│ MAWANASUG  │       5 │\n",
            "├────────────┼─────────┤\n",
            "│ MARKSANS   │       5 │\n",
            "├────────────┼─────────┤\n",
            "│ WALCHANNAG │       5 │\n",
            "├────────────┼─────────┤\n",
            "│ NETWORK18  │       5 │\n",
            "├────────────┼─────────┤\n",
            "│ IDBI       │       5 │\n",
            "├────────────┼─────────┤\n",
            "│ MARINE     │       5 │\n",
            "├────────────┼─────────┤\n",
            "│ MANAKSTEEL │       5 │\n",
            "├────────────┼─────────┤\n",
            "│ TV18BRDCST │       5 │\n",
            "╘════════════╧═════════╛\n"
          ]
        }
      ],
      "source": [
        "dict = sorted(filtered_stocks_purple_dots, key=operator.itemgetter('total'), reverse=True)\n",
        "\n",
        "# dict = sorted(filtered_stocks_purple_dots.items(), key=lambda x: x[1])\n",
        "\n",
        "# print_table(dict)\n",
        "n = 4 #Greater than n\n",
        "filtered_list = list(filter(lambda dict: dict['total'] > n, dict))\n",
        "\n",
        "print_table(filtered_list)\n",
        "\n",
        "\n",
        "# print(filtered_stocks_purple_dots)"
      ]
    },
    {
      "cell_type": "code",
      "execution_count": 22,
      "metadata": {
        "id": "FQpfJb2Sgdkq"
      },
      "outputs": [],
      "source": [
        "# filtered_stocks_purple_dots"
      ]
    },
    {
      "cell_type": "markdown",
      "metadata": {
        "id": "MM1n0y8rC4KK"
      },
      "source": [
        "Backup Code for getting data from yfinance\n",
        "```\n",
        "# This is formatted as code\n",
        "  df_data ={}\n",
        "  purple_dots_data = {}\n",
        "  for symbol in stock_list:\n",
        "    ticker = yf.Ticker(symbol)\n",
        "\n",
        "    if ticker:\n",
        "      stock_history = ticker.history(start=start_date,end=today, interval=\"1d\")\n",
        "      stock_history[\"return\"] = stock_history[\"Close\"].pct_change()*100\n",
        "      stock_history[\"is_1M\"] = stock_history[\"Volume\"]>=1000000\n",
        "      stock_history[\"gt_5pct\"] = stock_history[\"return\"]>=5\n",
        "      stock_history[\"match\"] = stock_history[\"is_1M\"] & stock_history[\"gt_5pct\"]\n",
        "      total = stock_history[\"match\"].sum()\n",
        "      stock_history[\"total\"] = total\n",
        "      zerodha_symbol = symbol.split('.',1)[0]\n",
        "      df_data[zerodha_symbol] = stock_history\n",
        "      if total>=2:\n",
        "        filtered_stocks_purple_dots.append({'symbol':zerodha_symbol,'total':total})\n",
        "        df_data[zerodha_symbol] = stock_history\n",
        "      if darvax(stock_history,14,5):\n",
        "        filtered_darvax.append(zerodha_symbol)\n",
        "```"
      ]
    },
    {
      "cell_type": "code",
      "execution_count": 23,
      "metadata": {
        "colab": {
          "base_uri": "https://localhost:8080/"
        },
        "id": "KILpkzaNjPJb",
        "outputId": "105a25ca-d43c-45b4-ee62-2230d21e0403"
      },
      "outputs": [
        {
          "output_type": "execute_result",
          "data": {
            "text/plain": [
              "[{'symbol': 'JINDALSAW', 'total': 16},\n",
              " {'symbol': 'JBMA', 'total': 12},\n",
              " {'symbol': 'ZENTEC', 'total': 12},\n",
              " {'symbol': 'EKC', 'total': 12},\n",
              " {'symbol': 'FACT', 'total': 11},\n",
              " {'symbol': 'JISLJALEQS', 'total': 11},\n",
              " {'symbol': 'USHAMART', 'total': 10},\n",
              " {'symbol': 'BHARATWIRE', 'total': 10},\n",
              " {'symbol': 'TRIL', 'total': 10},\n",
              " {'symbol': 'VASCONEQ', 'total': 10},\n",
              " {'symbol': 'HBLPOWER', 'total': 9},\n",
              " {'symbol': 'PENIND', 'total': 9},\n",
              " {'symbol': 'RADHIKAJWE', 'total': 9},\n",
              " {'symbol': 'KPITTECH', 'total': 8},\n",
              " {'symbol': 'LODHA', 'total': 8},\n",
              " {'symbol': 'DATAMATICS', 'total': 8},\n",
              " {'symbol': 'ELGIEQUIP', 'total': 8},\n",
              " {'symbol': 'MAHINDCIE', 'total': 8},\n",
              " {'symbol': 'TWL', 'total': 8},\n",
              " {'symbol': 'TRITURBINE', 'total': 8},\n",
              " {'symbol': 'MOLDTECH', 'total': 8},\n",
              " {'symbol': 'NAVA', 'total': 8},\n",
              " {'symbol': 'ICIL', 'total': 8},\n",
              " {'symbol': 'RVNL', 'total': 8},\n",
              " {'symbol': 'SCI', 'total': 8},\n",
              " {'symbol': 'BOMDYEING', 'total': 8},\n",
              " {'symbol': 'RICOAUTO', 'total': 8},\n",
              " {'symbol': 'IRCON', 'total': 8},\n",
              " {'symbol': 'ISMTLTD', 'total': 8},\n",
              " {'symbol': 'TEXRAIL', 'total': 8},\n",
              " {'symbol': 'CYIENT', 'total': 7},\n",
              " {'symbol': 'PAYTM', 'total': 7},\n",
              " {'symbol': 'PNBHOUSING', 'total': 7},\n",
              " {'symbol': 'TVSELECT', 'total': 7},\n",
              " {'symbol': 'SAKSOFT', 'total': 7},\n",
              " {'symbol': 'MINDACORP', 'total': 7},\n",
              " {'symbol': 'SDBL', 'total': 7},\n",
              " {'symbol': 'IZMO', 'total': 7},\n",
              " {'symbol': 'HINDOILEXP', 'total': 7},\n",
              " {'symbol': 'CAPACITE', 'total': 7},\n",
              " {'symbol': 'PRECAM', 'total': 7},\n",
              " {'symbol': 'GICRE', 'total': 7},\n",
              " {'symbol': 'SURYODAY', 'total': 7},\n",
              " {'symbol': 'ITDCEM', 'total': 7},\n",
              " {'symbol': 'ARVIND', 'total': 7},\n",
              " {'symbol': 'DCAL', 'total': 7},\n",
              " {'symbol': 'EQUITASBNK', 'total': 7},\n",
              " {'symbol': 'HUDCO', 'total': 7},\n",
              " {'symbol': 'IMAGICAA', 'total': 7},\n",
              " {'symbol': 'SALASAR', 'total': 7},\n",
              " {'symbol': 'PSB', 'total': 7},\n",
              " {'symbol': 'MAZDOCK', 'total': 6},\n",
              " {'symbol': 'SONATSOFTW', 'total': 6},\n",
              " {'symbol': 'OLECTRA', 'total': 6},\n",
              " {'symbol': 'APTECHT', 'total': 6},\n",
              " {'symbol': 'ZENSARTECH', 'total': 6},\n",
              " {'symbol': 'CHENNPETRO', 'total': 6},\n",
              " {'symbol': 'JSL', 'total': 6},\n",
              " {'symbol': 'SCHNEIDER', 'total': 6},\n",
              " {'symbol': 'UGROCAP', 'total': 6},\n",
              " {'symbol': 'TDPOWERSYS', 'total': 6},\n",
              " {'symbol': 'BLS', 'total': 6},\n",
              " {'symbol': 'NRBBEARING', 'total': 6},\n",
              " {'symbol': 'JAICORPLTD', 'total': 6},\n",
              " {'symbol': 'KALYANKJIL', 'total': 6},\n",
              " {'symbol': 'HIMATSEIDE', 'total': 6},\n",
              " {'symbol': 'ENGINERSIN', 'total': 6},\n",
              " {'symbol': 'KECL', 'total': 6},\n",
              " {'symbol': 'WELSPUNIND', 'total': 6},\n",
              " {'symbol': 'MADRASFERT', 'total': 6},\n",
              " {'symbol': 'CONFIPET', 'total': 6},\n",
              " {'symbol': 'RAMASTEEL', 'total': 6},\n",
              " {'symbol': 'TRIDENT', 'total': 6},\n",
              " {'symbol': 'KEC', 'total': 5},\n",
              " {'symbol': 'COCHINSHIP', 'total': 5},\n",
              " {'symbol': 'BORORENEW', 'total': 5},\n",
              " {'symbol': 'REFEX', 'total': 5},\n",
              " {'symbol': 'ACE', 'total': 5},\n",
              " {'symbol': 'RKFORGE', 'total': 5},\n",
              " {'symbol': 'UJJIVAN', 'total': 5},\n",
              " {'symbol': 'EIHOTEL', 'total': 5},\n",
              " {'symbol': 'FOODSIN', 'total': 5},\n",
              " {'symbol': 'MANAKSIA', 'total': 5},\n",
              " {'symbol': 'ANANTRAJ', 'total': 5},\n",
              " {'symbol': 'MANINDS', 'total': 5},\n",
              " {'symbol': 'HSCL', 'total': 5},\n",
              " {'symbol': 'RCF', 'total': 5},\n",
              " {'symbol': 'GENUSPOWER', 'total': 5},\n",
              " {'symbol': 'MAWANASUG', 'total': 5},\n",
              " {'symbol': 'MARKSANS', 'total': 5},\n",
              " {'symbol': 'WALCHANNAG', 'total': 5},\n",
              " {'symbol': 'NETWORK18', 'total': 5},\n",
              " {'symbol': 'IDBI', 'total': 5},\n",
              " {'symbol': 'MARINE', 'total': 5},\n",
              " {'symbol': 'MANAKSTEEL', 'total': 5},\n",
              " {'symbol': 'TV18BRDCST', 'total': 5}]"
            ]
          },
          "metadata": {},
          "execution_count": 23
        }
      ],
      "source": [
        "filtered_stocks_purple_dots\n",
        "filtered_list"
      ]
    },
    {
      "cell_type": "code",
      "execution_count": 24,
      "metadata": {
        "id": "4BVt3125jSQF"
      },
      "outputs": [],
      "source": [
        "purple_dots_full = [symbol['symbol'] for symbol in filtered_stocks_purple_dots]\n",
        "purple_dots_filtered = [symbol['symbol'] for symbol in filtered_list]"
      ]
    },
    {
      "cell_type": "code",
      "execution_count": 25,
      "metadata": {
        "colab": {
          "base_uri": "https://localhost:8080/"
        },
        "id": "cPeynyN7JtSE",
        "outputId": "e0a60de5-9d4a-4ee0-d36d-3f1e2293ff24"
      },
      "outputs": [
        {
          "output_type": "stream",
          "name": "stdout",
          "text": [
            "JINDALSAW,\n",
            "JBMA,\n",
            "ZENTEC,\n",
            "EKC,\n",
            "FACT,\n",
            "JISLJALEQS,\n",
            "USHAMART,\n",
            "BHARATWIRE,\n",
            "TRIL,\n",
            "VASCONEQ,\n",
            "HBLPOWER,\n",
            "PENIND,\n",
            "RADHIKAJWE,\n",
            "KPITTECH,\n",
            "LODHA,\n",
            "DATAMATICS,\n",
            "ELGIEQUIP,\n",
            "MAHINDCIE,\n",
            "TWL,\n",
            "TRITURBINE,\n",
            "MOLDTECH,\n",
            "NAVA,\n",
            "ICIL,\n",
            "RVNL,\n",
            "SCI,\n",
            "BOMDYEING,\n",
            "RICOAUTO,\n",
            "IRCON,\n",
            "ISMTLTD,\n",
            "TEXRAIL,\n",
            "CYIENT,\n",
            "PAYTM,\n",
            "PNBHOUSING,\n",
            "TVSELECT,\n",
            "SAKSOFT,\n",
            "MINDACORP,\n",
            "SDBL,\n",
            "IZMO,\n",
            "HINDOILEXP,\n",
            "CAPACITE,\n",
            "PRECAM,\n",
            "GICRE,\n",
            "SURYODAY,\n",
            "ITDCEM,\n",
            "ARVIND,\n",
            "DCAL,\n",
            "EQUITASBNK,\n",
            "HUDCO,\n",
            "IMAGICAA,\n",
            "SALASAR,\n",
            "PSB,\n",
            "MAZDOCK,\n",
            "SONATSOFTW,\n",
            "OLECTRA,\n",
            "APTECHT,\n",
            "ZENSARTECH,\n",
            "CHENNPETRO,\n",
            "JSL,\n",
            "SCHNEIDER,\n",
            "UGROCAP,\n",
            "TDPOWERSYS,\n",
            "BLS,\n",
            "NRBBEARING,\n",
            "JAICORPLTD,\n",
            "KALYANKJIL,\n",
            "HIMATSEIDE,\n",
            "ENGINERSIN,\n",
            "KECL,\n",
            "WELSPUNIND,\n",
            "MADRASFERT,\n",
            "CONFIPET,\n",
            "RAMASTEEL,\n",
            "TRIDENT,\n",
            "KEC,\n",
            "COCHINSHIP,\n",
            "BORORENEW,\n",
            "REFEX,\n",
            "ACE,\n",
            "RKFORGE,\n",
            "UJJIVAN,\n",
            "EIHOTEL,\n",
            "FOODSIN,\n",
            "MANAKSIA,\n",
            "ANANTRAJ,\n",
            "MANINDS,\n",
            "HSCL,\n",
            "RCF,\n",
            "GENUSPOWER,\n",
            "MAWANASUG,\n",
            "MARKSANS,\n",
            "WALCHANNAG,\n",
            "NETWORK18,\n",
            "IDBI,\n",
            "MARINE,\n",
            "MANAKSTEEL,\n",
            "TV18BRDCST,\n"
          ]
        }
      ],
      "source": [
        "for symbol in list(purple_dots_filtered):\n",
        "  print(symbol+',')"
      ]
    },
    {
      "cell_type": "code",
      "execution_count": 26,
      "metadata": {
        "colab": {
          "base_uri": "https://localhost:8080/"
        },
        "id": "mGmazy6811JK",
        "outputId": "78a562b2-9145-4981-eac1-376521cb1d7b"
      },
      "outputs": [
        {
          "output_type": "execute_result",
          "data": {
            "text/plain": [
              "[]"
            ]
          },
          "metadata": {},
          "execution_count": 26
        }
      ],
      "source": [
        "filtered_darvax"
      ]
    },
    {
      "cell_type": "code",
      "execution_count": null,
      "metadata": {
        "id": "YxemE81Mjc0o"
      },
      "outputs": [],
      "source": [
        "# a_set = set(filtered_darvax)\n",
        "# b_set = set(purple_dots)\n",
        "\n",
        "\n",
        "# common_sets = a_set&b_set\n",
        "\n",
        "# list(common_sets)\n",
        "# for symbol in list(common_sets):\n",
        "#   print(symbol+',')"
      ]
    }
  ],
  "metadata": {
    "colab": {
      "provenance": [],
      "authorship_tag": "ABX9TyO+54HKdI8hvI6rXCR88Wk/",
      "include_colab_link": true
    },
    "kernelspec": {
      "display_name": "Python 3",
      "name": "python3"
    },
    "language_info": {
      "name": "python"
    }
  },
  "nbformat": 4,
  "nbformat_minor": 0
}